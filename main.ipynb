{
 "cells": [
  {
   "cell_type": "code",
   "execution_count": 23,
   "metadata": {},
   "outputs": [],
   "source": [
    "import tensorflow as tf\n",
    "from tensorflow.keras.layers import Conv2D, MaxPooling2D, Flatten, Dense\n",
    "\n",
    "def MesoNet(input_shape):\n",
    "    model = tf.keras.Sequential([\n",
    "        # Block 1\n",
    "        Conv2D(16, (3, 3), activation='relu', input_shape=input_shape),\n",
    "        MaxPooling2D((2, 2)),\n",
    "        # Block 2\n",
    "        Conv2D(32, (3, 3), activation='relu'),\n",
    "        MaxPooling2D((2, 2)),\n",
    "        # Block 3\n",
    "        Conv2D(64, (3, 3), activation='relu'),\n",
    "        MaxPooling2D((2, 2)),\n",
    "        # Block 4\n",
    "        Conv2D(128, (3, 3), activation='relu'),\n",
    "        MaxPooling2D((2, 2)),\n",
    "        # Flatten the convolutional features\n",
    "        Flatten(),\n",
    "        # Fully connected layers\n",
    "        Dense(512, activation='relu'),\n",
    "        Dense(1, activation='sigmoid')  # Output layer, sigmoid for binary classification\n",
    "    ])\n",
    "    return model\n",
    "\n",
    "# Example usage:\n",
    "input_shape = (256, 256, 3)  # Example input shape for images of size 256x256 with 3 channels (RGB)\n",
    "meso_model = MesoNet(input_shape)\n"
   ]
  },
  {
   "cell_type": "code",
   "execution_count": 24,
   "metadata": {},
   "outputs": [
    {
     "name": "stdout",
     "output_type": "stream",
     "text": [
      "WARNING:tensorflow:Compiled the loaded model, but the compiled metrics have yet to be built. `model.compile_metrics` will be empty until you train or evaluate the model.\n"
     ]
    }
   ],
   "source": [
    "meso_model.save('meso_model.h5')"
   ]
  },
  {
   "cell_type": "code",
   "execution_count": 25,
   "metadata": {},
   "outputs": [],
   "source": [
    "meso_model.compile(optimizer='adam',\n",
    "                   loss='binary_crossentropy',\n",
    "                   metrics=['accuracy'])"
   ]
  },
  {
   "cell_type": "code",
   "execution_count": 20,
   "metadata": {},
   "outputs": [
    {
     "name": "stdout",
     "output_type": "stream",
     "text": [
      "Epoch 1/10\n",
      "222/222 [==============================] - 171s 762ms/step - loss: 0.2833 - accuracy: 0.8787\n",
      "Epoch 2/10\n",
      "222/222 [==============================] - 641s 3s/step - loss: 0.0881 - accuracy: 0.9657\n",
      "Epoch 3/10\n",
      "222/222 [==============================] - 139s 627ms/step - loss: 0.0544 - accuracy: 0.9811\n",
      "Epoch 4/10\n",
      "222/222 [==============================] - 144s 649ms/step - loss: 0.0427 - accuracy: 0.9873\n",
      "Epoch 5/10\n",
      "222/222 [==============================] - 142s 640ms/step - loss: 0.0232 - accuracy: 0.9918\n",
      "Epoch 6/10\n",
      "222/222 [==============================] - 165s 742ms/step - loss: 0.0178 - accuracy: 0.9932\n",
      "Epoch 7/10\n",
      "222/222 [==============================] - 164s 740ms/step - loss: 0.0310 - accuracy: 0.9900\n",
      "Epoch 8/10\n",
      "222/222 [==============================] - 164s 738ms/step - loss: 0.0089 - accuracy: 0.9963\n",
      "Epoch 9/10\n",
      "222/222 [==============================] - 139s 624ms/step - loss: 0.0025 - accuracy: 0.9992\n",
      "Epoch 10/10\n",
      "222/222 [==============================] - 142s 640ms/step - loss: 0.0136 - accuracy: 0.9949\n",
      "222/222 [==============================] - 28s 127ms/step - loss: 0.0584 - accuracy: 0.9782\n",
      "Training loss: 0.058439817279577255\n",
      "Training accuracy: 0.9781813025474548\n"
     ]
    }
   ],
   "source": [
    "# Train the model\n",
    "history = meso_model.fit(\n",
    "    train_generator,\n",
    "    steps_per_epoch=train_generator.samples // batch_size,\n",
    "    epochs=epochs\n",
    ")\n",
    "\n",
    "# Evaluate the model\n",
    "loss, accuracy = meso_model.evaluate(train_generator)\n",
    "print('Training loss:', loss)\n",
    "print('Training accuracy:', accuracy)"
   ]
  },
  {
   "cell_type": "code",
   "execution_count": 26,
   "metadata": {},
   "outputs": [
    {
     "name": "stdout",
     "output_type": "stream",
     "text": [
      "WARNING:tensorflow:No training configuration found in the save file, so the model was *not* compiled. Compile it manually.\n",
      "WARNING:tensorflow:6 out of the last 6 calls to <function Model.make_predict_function.<locals>.predict_function at 0x000001DA74A93EC0> triggered tf.function retracing. Tracing is expensive and the excessive number of tracings could be due to (1) creating @tf.function repeatedly in a loop, (2) passing tensors with different shapes, (3) passing Python objects instead of tensors. For (1), please define your @tf.function outside of the loop. For (2), @tf.function has reduce_retracing=True option that can avoid unnecessary retracing. For (3), please refer to https://www.tensorflow.org/guide/function#controlling_retracing and https://www.tensorflow.org/api_docs/python/tf/function for  more details.\n",
      "1/1 [==============================] - 0s 79ms/step\n",
      "Prediction: Deepfake\n"
     ]
    }
   ],
   "source": [
    "import tensorflow as tf\n",
    "from PIL import Image\n",
    "import numpy as np\n",
    "from tensorflow.keras.preprocessing.image import img_to_array\n",
    "\n",
    "# Load pre-trained MesoNet model\n",
    "meso_model_path = 'meso_model.h5'\n",
    "meso_model = tf.keras.models.load_model(meso_model_path)\n",
    "\n",
    "# Function to classify image\n",
    "def classify_image(image_path, model):\n",
    "    # Load and preprocess the image\n",
    "    image = Image.open(image_path)\n",
    "    image = image.resize((256, 256))  # Resize image to match input shape\n",
    "    image_array = img_to_array(image) / 255.0  # Convert image to array and normalize\n",
    "    image_array = np.expand_dims(image_array, axis=0)  # Add batch dimension\n",
    "\n",
    "    # Classify image using MesoNet\n",
    "    prediction = model.predict(image_array)[0][0]\n",
    "    \n",
    "    # Determine if it's a deepfake or not\n",
    "    if prediction < 0.5:\n",
    "        return \"Real\"\n",
    "    else:\n",
    "        return \"Deepfake\"\n",
    "\n",
    "# Example usage\n",
    "image_path = 'Meloni deepfake.jpg'  # Replace with the path to your image\n",
    "result = classify_image(image_path, meso_model)\n",
    "print(\"Prediction:\", result)\n",
    "\n"
   ]
  },
  {
   "cell_type": "code",
   "execution_count": 22,
   "metadata": {},
   "outputs": [],
   "source": [
    "input_shape = (256, 256, 3)\n",
    "batch_size = 32\n",
    "epochs = 10"
   ]
  },
  {
   "cell_type": "code",
   "execution_count": 3,
   "metadata": {},
   "outputs": [
    {
     "name": "stdout",
     "output_type": "stream",
     "text": [
      "Found 7104 images belonging to 2 classes.\n"
     ]
    }
   ],
   "source": [
    "# Data loading and preprocessing\n",
    "from tensorflow.keras.preprocessing.image import ImageDataGenerator\n",
    "train_datagen = ImageDataGenerator(rescale=1./255)\n",
    "train_generator = train_datagen.flow_from_directory(\n",
    "    './data/',\n",
    "    target_size=(256, 256),\n",
    "    batch_size=batch_size,\n",
    "    class_mode='binary'\n",
    ")"
   ]
  },
  {
   "cell_type": "code",
   "execution_count": 30,
   "metadata": {},
   "outputs": [
    {
     "name": "stdout",
     "output_type": "stream",
     "text": [
      "WARNING:tensorflow:No training configuration found in the save file, so the model was *not* compiled. Compile it manually.\n"
     ]
    }
   ],
   "source": [
    "import streamlit as st\n",
    "import tensorflow as tf\n",
    "from PIL import Image\n",
    "from tensorflow.keras.preprocessing.image import img_to_array\n",
    "import numpy as np\n",
    "\n",
    "# Load pre-trained MesoNet model\n",
    "meso_model_path = 'meso_model.h5'\n",
    "meso_model = tf.keras.models.load_model(meso_model_path)\n",
    "\n",
    "# Function to classify image\n",
    "def classify_image(image):\n",
    "    # Preprocess image\n",
    "    image = image.resize((256, 256))  # Resize image to match input shape\n",
    "    image_array = img_to_array(image) / 255.0  # Convert image to array and normalize\n",
    "    image_array = np.expand_dims(image_array, axis=0)  # Add batch dimension\n",
    "\n",
    "    # Classify image using MesoNet\n",
    "    prediction = meso_model.predict(image_array)[0][0]\n",
    "    \n",
    "    # Determine if it's a deepfake or not\n",
    "    if prediction < 0.5:\n",
    "        return \"Real\"\n",
    "    else:\n",
    "        return \"Deepfake\"\n",
    "\n",
    "# Streamlit interface\n",
    "st.title('Deepfake Detection')\n",
    "\n",
    "uploaded_file = st.file_uploader(\"Choose an image...\", type=[\"jpg\", \"png\"])\n",
    "\n",
    "if uploaded_file is not None:\n",
    "    # Display the uploaded image\n",
    "    image = Image.open(uploaded_file)\n",
    "    st.image(use_column_width=True)\n",
    "\n",
    "    # Classify the image\n",
    "    result = classify_image(image)\n",
    "    st.write(\"Prediction:\", result)\n"
   ]
  },
  {
   "cell_type": "code",
   "execution_count": null,
   "metadata": {},
   "outputs": [],
   "source": []
  }
 ],
 "metadata": {
  "kernelspec": {
   "display_name": "Python 3",
   "language": "python",
   "name": "python3"
  },
  "language_info": {
   "codemirror_mode": {
    "name": "ipython",
    "version": 3
   },
   "file_extension": ".py",
   "mimetype": "text/x-python",
   "name": "python",
   "nbconvert_exporter": "python",
   "pygments_lexer": "ipython3",
   "version": "3.11.0"
  }
 },
 "nbformat": 4,
 "nbformat_minor": 2
}
